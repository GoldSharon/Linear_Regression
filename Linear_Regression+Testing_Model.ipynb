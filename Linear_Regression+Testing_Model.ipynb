{
 "cells": [
  {
   "cell_type": "markdown",
   "metadata": {},
   "source": [
    "# Linear Regression\n",
    "\n",
    "\n",
    "To upadate the slope and intercept , we have to use `gradient descent`.\n",
    "\n",
    "### 1.For Slope \n",
    "`dw or ds  =  -2/n * sum( x ( Y - Y `<sb>`pred`<sb>`))`\n",
    "<br>\n",
    "### 2.For Intercept\n",
    " `db or dc  =  -2/n * sum( Y - Y `<sb>`pred`<sb>`)`"
   ]
  },
  {
   "cell_type": "code",
   "execution_count": 1,
   "metadata": {},
   "outputs": [],
   "source": [
    "import numpy as np\n",
    "import matplotlib.pyplot as plt"
   ]
  },
  {
   "cell_type": "code",
   "execution_count": 2,
   "metadata": {},
   "outputs": [],
   "source": [
    "class Linear_Regression:\n",
    "    \n",
    "    def __init__(self,learning_rate=0.01,number_iter=1000):\n",
    "         \n",
    "         self.learning_rate = learning_rate\n",
    "         self.number_iter = number_iter\n",
    "         self.bias = 0\n",
    "         self.weight = None\n",
    "         self.rows = 0\n",
    "         self.cols = 0\n",
    "         \n",
    "    def fit(self,X,y):\n",
    "        \n",
    "        self.rows = X.shape[0]\n",
    "        self.cols = X.shape[1]\n",
    "        \n",
    "        self.weight = np.zeros((self.cols,1))\n",
    "        \n",
    "        for i in range(self.number_iter):\n",
    "            \n",
    "            self.update_parameter(X,y)\n",
    "            \n",
    "        print(\"The model is learnt Successfully 😊\")\n",
    "        mse = np.mean(((y-self.predict(X))**2))\n",
    "        print(\"The Mean Squared error is \"+str(mse))\n",
    "        \n",
    "        if(self.cols==1):\n",
    "            self.plot(X,y)\n",
    "            \n",
    "        \n",
    "        \n",
    "    \n",
    "    def predict(self,X):\n",
    "        \n",
    "        return X @ (self.weight) + self.bias\n",
    "        \n",
    "    def update_parameter(self,X,y):\n",
    "        \n",
    "        y_pred = self.predict(X)\n",
    "        \n",
    "        dw = (-2 / self.rows) * (X.T @ (y - y_pred))  # No sum, just the error vector\n",
    "        db = (-2 / self.rows) * np.sum(y - y_pred)    # Sum of errors for bias update\n",
    "        \n",
    "        self.weight -= self.learning_rate*dw\n",
    "        \n",
    "        self.bias -=self.learning_rate*db\n",
    "        \n",
    "        \n",
    "   \n",
    "        \n",
    "    def plot(self, X, y):\n",
    "        y_pred = self.predict(X)\n",
    "        \n",
    "        plt.scatter(X, y, color='g', label=\"Actual\")\n",
    "        plt.plot(X, y_pred, 'r', label=\"Predicted\")\n",
    "        plt.legend()\n",
    "        plt.show()\n",
    "        \n",
    "        \n",
    "        \n",
    "        \n",
    "                "
   ]
  },
  {
   "cell_type": "markdown",
   "metadata": {},
   "source": [
    "## Generating Random Samples"
   ]
  },
  {
   "cell_type": "code",
   "execution_count": 3,
   "metadata": {},
   "outputs": [],
   "source": [
    "np.random.seed(0)  \n",
    "\n",
    "n_samples = 100    \n",
    "\n",
    "true_bias = 5  "
   ]
  },
  {
   "cell_type": "markdown",
   "metadata": {},
   "source": [
    "### 1 Feature"
   ]
  },
  {
   "cell_type": "code",
   "execution_count": 4,
   "metadata": {},
   "outputs": [],
   "source": [
    "true_weight = 2.5 \n",
    "    \n",
    "X = 2 * np.random.rand(n_samples, 1)\n",
    "\n",
    "# Calculate y with added noise\n",
    "y = true_weight * X + true_bias + np.random.randn(n_samples, 1) * 0.1  # Added some noise\n"
   ]
  },
  {
   "cell_type": "code",
   "execution_count": 5,
   "metadata": {},
   "outputs": [
    {
     "data": {
      "text/plain": [
       "(100, 1)"
      ]
     },
     "execution_count": 5,
     "metadata": {},
     "output_type": "execute_result"
    }
   ],
   "source": [
    "y.shape"
   ]
  },
  {
   "cell_type": "code",
   "execution_count": 6,
   "metadata": {},
   "outputs": [
    {
     "name": "stdout",
     "output_type": "stream",
     "text": [
      "The model is learnt Successfully 😊\n",
      "The Mean Squared error is 0.011047290103042888\n"
     ]
    },
    {
     "data": {
      "image/png": "[encoded data removed]",
      "text/plain": [
       "<Figure size 640x480 with 1 Axes>"
      ]
     },
     "metadata": {},
     "output_type": "display_data"
    }
   ],
   "source": [
    "lr_1D = Linear_Regression()\n",
    "lr_1D.fit(X,y)"
   ]
  },
  {
   "cell_type": "markdown",
   "metadata": {},
   "source": [
    "### More than 1 Features"
   ]
  },
  {
   "cell_type": "code",
   "execution_count": 7,
   "metadata": {},
   "outputs": [],
   "source": [
    "true_weights_2 = [2.5, -1.3]\n",
    "\n",
    "X = 2 * np.random.rand(n_samples, 2)\n",
    "\n",
    "# Calculate y with added noise\n",
    "y = true_weights_2[0] * X[:, 0].reshape(-1, 1) + true_weights_2[1] * X[:, 1].reshape(-1, 1) + true_bias + np.random.randn(n_samples, 1) * 0.1"
   ]
  },
  {
   "cell_type": "code",
   "execution_count": 8,
   "metadata": {},
   "outputs": [
    {
     "name": "stdout",
     "output_type": "stream",
     "text": [
      "The model is learnt Successfully 😊\n",
      "The Mean Squared error is 0.024468259156440356\n"
     ]
    }
   ],
   "source": [
    "lr2 = Linear_Regression()\n",
    "lr2.fit(X,y)"
   ]
  },
  {
   "cell_type": "code",
   "execution_count": 9,
   "metadata": {},
   "outputs": [
    {
     "data": {
      "text/plain": [
       "4.682475304547638"
      ]
     },
     "execution_count": 9,
     "metadata": {},
     "output_type": "execute_result"
    }
   ],
   "source": [
    "lr2.bias"
   ]
  },
  {
   "cell_type": "code",
   "execution_count": null,
   "metadata": {},
   "outputs": [],
   "source": []
  }
 ],
 "metadata": {
  "kernelspec": {
   "display_name": "Python 3",
   "language": "python",
   "name": "python3"
  },
  "language_info": {
   "codemirror_mode": {
    "name": "ipython",
    "version": 3
   },
   "file_extension": ".py",
   "mimetype": "text/x-python",
   "name": "python",
   "nbconvert_exporter": "python",
   "pygments_lexer": "ipython3",
   "version": "3.9.13"
  }
 },
 "nbformat": 4,
 "nbformat_minor": 2
}
